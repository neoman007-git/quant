{
 "cells": [
  {
   "cell_type": "markdown",
   "metadata": {},
   "source": [
    "# Principal Component Analysis\n",
    "\n",
    "PCA is a statistical procedure that uses the orthogonal transformation to convert a set of observations of possibly correlated variables into a set of values of linearly uncorrelated variables called ***principal components***\n",
    "\n",
    "* No of principal components $\\leq$ No of original variables\n",
    "* Orthogonal transformation is defined in such a way that $1^{st}$ principal component has the largest variance, accounting for much of the variability in the data\n",
    "\n",
    "We apply PCA to derive the principal components of the **German DAX** index:"
   ]
  },
  {
   "cell_type": "markdown",
   "metadata": {},
   "source": [
    "### Importing the DAX Index and Its Index Stocks"
   ]
  },
  {
   "cell_type": "code",
   "execution_count": 71,
   "metadata": {
    "collapsed": false
   },
   "outputs": [],
   "source": [
    "import numpy as np\n",
    "import pandas as pd\n",
    "import pandas.io.data as web\n",
    "import pandas_datareader as pdr\n",
    "import datetime as dt\n",
    "\n",
    "symbols = ['AAPL','AXP','BA','CAT','CSCO','CVX','KO','DD','XOM','GE',\n",
    "           'GS','HD','IBM','INTC','JNJ','JPM','MCD','MMM','MRK','MSFT',\n",
    "           'NKE','PFE','PG','TRV','UNH','UTX','V','VZ','WMT','DIS',\n",
    "           '^DJI']\n",
    "startDt, endDt = dt.datetime(2015,1,1), dt.datetime(2017,10,1)\n",
    "data = pd.DataFrame()\n",
    "for sym in symbols:\n",
    "    try:\n",
    "        data=pd.concat([data, pdr.data.DataReader(sym,'yahoo',startDt,endDt)['Adj Close']],axis=1)\n",
    "        data.columns.values[-1] = sym\n",
    "    except:\n",
    "        continue\n",
    "dfDAX "
   ]
  },
  {
   "cell_type": "code",
   "execution_count": 75,
   "metadata": {
    "collapsed": false
   },
   "outputs": [
    {
     "data": {
      "text/plain": [
       "Index(['AXP', 'BA', 'CAT', 'CSCO', 'CVX', 'KO', 'DD', 'XOM', 'GE', 'GS', 'HD',\n",
       "       'IBM', 'INTC', 'JPM', 'MCD', 'MMM', 'MSFT', 'NKE', 'PG', 'TRV', 'UNH',\n",
       "       'UTX', 'V', 'VZ', 'WMT', 'DIS'],\n",
       "      dtype='object')"
      ]
     },
     "execution_count": 75,
     "metadata": {},
     "output_type": "execute_result"
    }
   ],
   "source": [
    "data.columns"
   ]
  },
  {
   "cell_type": "code",
   "execution_count": 60,
   "metadata": {
    "collapsed": false
   },
   "outputs": [],
   "source": [
    "data = pd.DataFrame()\n",
    "data = pdr.data.DataReader('AAPL','yahoo',startDt,endDt)['Adj Close']\n",
    "data=pd.concat([data, pdr.data.DataReader('AXP','yahoo',startDt,endDt)['Adj Close']],axis=1)"
   ]
  },
  {
   "cell_type": "code",
   "execution_count": 70,
   "metadata": {
    "collapsed": false
   },
   "outputs": [
    {
     "data": {
      "text/html": [
       "<div>\n",
       "<table border=\"1\" class=\"dataframe\">\n",
       "  <thead>\n",
       "    <tr style=\"text-align: right;\">\n",
       "      <th></th>\n",
       "      <th>AXP</th>\n",
       "      <th>AXP</th>\n",
       "    </tr>\n",
       "    <tr>\n",
       "      <th>Date</th>\n",
       "      <th></th>\n",
       "      <th></th>\n",
       "    </tr>\n",
       "  </thead>\n",
       "  <tbody>\n",
       "    <tr>\n",
       "      <th>2014-12-31</th>\n",
       "      <td>104.863991</td>\n",
       "      <td>88.591087</td>\n",
       "    </tr>\n",
       "    <tr>\n",
       "      <th>2015-01-02</th>\n",
       "      <td>103.866470</td>\n",
       "      <td>88.572037</td>\n",
       "    </tr>\n",
       "    <tr>\n",
       "      <th>2015-01-05</th>\n",
       "      <td>100.940392</td>\n",
       "      <td>86.229668</td>\n",
       "    </tr>\n",
       "    <tr>\n",
       "      <th>2015-01-06</th>\n",
       "      <td>100.949890</td>\n",
       "      <td>84.391953</td>\n",
       "    </tr>\n",
       "    <tr>\n",
       "      <th>2015-01-07</th>\n",
       "      <td>102.365440</td>\n",
       "      <td>86.235077</td>\n",
       "    </tr>\n",
       "  </tbody>\n",
       "</table>\n",
       "</div>"
      ],
      "text/plain": [
       "                   AXP        AXP\n",
       "Date                             \n",
       "2014-12-31  104.863991  88.591087\n",
       "2015-01-02  103.866470  88.572037\n",
       "2015-01-05  100.940392  86.229668\n",
       "2015-01-06  100.949890  84.391953\n",
       "2015-01-07  102.365440  86.235077"
      ]
     },
     "execution_count": 70,
     "metadata": {},
     "output_type": "execute_result"
    }
   ],
   "source": [
    "data.head()"
   ]
  },
  {
   "cell_type": "code",
   "execution_count": null,
   "metadata": {
    "collapsed": false
   },
   "outputs": [],
   "source": []
  }
 ],
 "metadata": {
  "anaconda-cloud": {},
  "kernelspec": {
   "display_name": "Python [default]",
   "language": "python",
   "name": "python3"
  },
  "language_info": {
   "codemirror_mode": {
    "name": "ipython",
    "version": 3
   },
   "file_extension": ".py",
   "mimetype": "text/x-python",
   "name": "python",
   "nbconvert_exporter": "python",
   "pygments_lexer": "ipython3",
   "version": "3.5.2"
  }
 },
 "nbformat": 4,
 "nbformat_minor": 1
}
